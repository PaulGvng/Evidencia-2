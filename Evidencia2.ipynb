{
  "nbformat": 4,
  "nbformat_minor": 0,
  "metadata": {
    "colab": {
      "provenance": [],
      "authorship_tag": "ABX9TyN1RLV8B5wt3urmH5YBuAVN",
      "include_colab_link": true
    },
    "kernelspec": {
      "name": "python3",
      "display_name": "Python 3"
    },
    "language_info": {
      "name": "python"
    }
  },
  "cells": [
    {
      "cell_type": "markdown",
      "metadata": {
        "id": "view-in-github",
        "colab_type": "text"
      },
      "source": [
        "<a href=\"https://colab.research.google.com/github/PaulGvng/Evidencia-2/blob/main/Evidencia2.ipynb\" target=\"_parent\"><img src=\"https://colab.research.google.com/assets/colab-badge.svg\" alt=\"Open In Colab\"/></a>"
      ]
    },
    {
      "cell_type": "code",
      "execution_count": 1,
      "metadata": {
        "colab": {
          "base_uri": "https://localhost:8080/"
        },
        "id": "_R6XDZxH0bUs",
        "outputId": "057a6da3-6c3f-4126-9504-e86cd7ac4969"
      },
      "outputs": [
        {
          "output_type": "stream",
          "name": "stdout",
          "text": [
            "Nombre Nata\n",
            "Nombre Keo\n"
          ]
        }
      ],
      "source": [
        "class Persona:\n",
        "\n",
        "    def inicializar(self,nom):\n",
        "        self.nombre=nom\n",
        "\n",
        "    def imprimir(self):\n",
        "        print(\"Nombre\",self.nombre)\n",
        "\n",
        "\n",
        "# bloque principal\n",
        "\n",
        "persona1=Persona()\n",
        "persona1.inicializar(\"Nata\")\n",
        "persona1.imprimir()\n",
        "\n",
        "persona2=Persona()\n",
        "persona2.inicializar(\"Keo\")\n",
        "persona2.imprimir()"
      ]
    },
    {
      "cell_type": "code",
      "source": [
        "class Alumno:\n",
        "\n",
        "    def inicializar(self,nombre,nota):\n",
        "        self.nombre=nombre\n",
        "        self.nota=nota\n",
        "\n",
        "    def imprimir(self):\n",
        "        print(\"Nombre:\",self.nombre)\n",
        "        print(\"Nota:\",self.nota)\n",
        "\n",
        "    def mostrar_estado(self):\n",
        "        if self.nota>=4:\n",
        "            print(\"Regular\")\n",
        "        else:\n",
        "            print(\"Libre\")\n",
        "\n",
        "\n",
        "# bloque principal\n",
        "\n",
        "alumno1=Alumno()\n",
        "alumno1.inicializar(\"Jose\",2)\n",
        "alumno1.imprimir()\n",
        "alumno1.mostrar_estado()\n",
        "\n",
        "alumno2=Alumno()\n",
        "alumno2.inicializar(\"Ramon\",10)\n",
        "alumno2.imprimir()\n",
        "alumno2.mostrar_estado()"
      ],
      "metadata": {
        "colab": {
          "base_uri": "https://localhost:8080/"
        },
        "id": "nuooOwkT40l6",
        "outputId": "d88dff80-7dfb-4cb8-fefe-d4cf4641e562"
      },
      "execution_count": 2,
      "outputs": [
        {
          "output_type": "stream",
          "name": "stdout",
          "text": [
            "Nombre: Jose\n",
            "Nota: 2\n",
            "Libre\n",
            "Nombre: Ramon\n",
            "Nota: 10\n",
            "Regular\n"
          ]
        }
      ]
    },
    {
      "cell_type": "code",
      "source": [
        "class Persona:\n",
        "\n",
        "    def inicializar(self,nombre,edad):\n",
        "        self.nombre=nombre\n",
        "        self.edad=edad\n",
        "\n",
        "    def imprimir(self):\n",
        "        print(\"Nombre\",self.nombre)\n",
        "        print(\"Edad\",self.edad)\n",
        "\n",
        "    def mayor_edad(self):\n",
        "        if self.edad>=18:\n",
        "            print(\"Es mayor de edad\")\n",
        "        else:\n",
        "            print(\"No es mayor de edad\")\n",
        "\n",
        "\n",
        "# bloque principal\n",
        "\n",
        "persona1=Persona()\n",
        "persona1.inicializar(\"Martin\",32)\n",
        "persona1.imprimir()\n",
        "persona1.mayor_edad()\n"
      ],
      "metadata": {
        "colab": {
          "base_uri": "https://localhost:8080/"
        },
        "id": "KWPfyBAB7QlJ",
        "outputId": "673f18b5-782f-42fb-87b1-039d5fd73a44"
      },
      "execution_count": 4,
      "outputs": [
        {
          "output_type": "stream",
          "name": "stdout",
          "text": [
            "Nombre Martin\n",
            "Edad 32\n",
            "Es mayor de edad\n"
          ]
        }
      ]
    },
    {
      "cell_type": "code",
      "source": [
        "class Triangulo:\n",
        "\n",
        "    def inicializar(self):\n",
        "        self.lado1=int(input(\"Ingrese primer lado:\"))\n",
        "        self.lado2=int(input(\"Ingrese segundo lado:\"))\n",
        "        self.lado3=int(input(\"Ingrese tercer lado:\"))\n",
        "\n",
        "    def imprimir(self):\n",
        "        print(\"Valores de los lados del triangulo\")\n",
        "        print(\"Lado 1\",self.lado1)\n",
        "        print(\"Lado 2\",self.lado2)\n",
        "        print(\"Lado 3\",self.lado3)\n",
        "\n",
        "    def lado_mayor(self):\n",
        "        print(\"Lado mayor\")\n",
        "        if self.lado1>self.lado2 and self.lado1>self.lado3:\n",
        "            print(self.lado1)\n",
        "        else:\n",
        "            if self.lado2>self.lado3:\n",
        "                print(self.lado2)\n",
        "            else:\n",
        "                print(self.lado3)\n",
        "\n",
        "    def es_equilatero(self):\n",
        "        if self.lado1==self.lado2 and self.lado1==self.lado3:\n",
        "            print(\"El triangulo es equilatero\")\n",
        "        else:\n",
        "            print(\"El triangulo no es equilatero\")\n",
        "\n",
        "\n",
        "# bloque principal\n",
        "\n",
        "triangulo1=Triangulo()\n",
        "triangulo1.inicializar()\n",
        "triangulo1.imprimir()\n",
        "triangulo1.lado_mayor()\n",
        "triangulo1.es_equilatero()"
      ],
      "metadata": {
        "colab": {
          "base_uri": "https://localhost:8080/"
        },
        "id": "1SoMuDLK9IFs",
        "outputId": "4442d861-b748-4568-f759-9a3f0baea8ff"
      },
      "execution_count": 6,
      "outputs": [
        {
          "output_type": "stream",
          "name": "stdout",
          "text": [
            "Ingrese primer lado:7\n",
            "Ingrese segundo lado:8\n",
            "Ingrese tercer lado:5\n",
            "Valores de los lados del triangulo\n",
            "Lado 1 7\n",
            "Lado 2 8\n",
            "Lado 3 5\n",
            "Lado mayor\n",
            "8\n",
            "El triangulo no es equilatero\n"
          ]
        }
      ]
    }
  ]
}